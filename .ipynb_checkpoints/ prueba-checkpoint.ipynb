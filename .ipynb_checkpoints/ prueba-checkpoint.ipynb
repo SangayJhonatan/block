{
 "cells": [
  {
   "cell_type": "markdown",
   "id": "68fe29ad",
   "metadata": {},
   "source": [
    "# LATEX  \n",
    "aula:les3"
   ]
  },
  {
   "cell_type": "markdown",
   "id": "37a6dc3d",
   "metadata": {},
   "source": [
    "### *Fórmula cuadrática*"
   ]
  },
  {
   "cell_type": "markdown",
   "id": "cda092a0",
   "metadata": {},
   "source": [
    "$$x=\\frac{-b\\pm\\sqrt{b^2-4ac}}{2a}$$"
   ]
  },
  {
   "cell_type": "code",
   "execution_count": 1,
   "id": "ebcefe8c",
   "metadata": {},
   "outputs": [
    {
     "name": "stdout",
     "output_type": "stream",
     "text": [
      "64\n"
     ]
    }
   ],
   "source": [
    "X = 8\n",
    "y = 2\n",
    "z = 8**2\n",
    "print(z)"
   ]
  },
  {
   "cell_type": "code",
   "execution_count": 2,
   "id": "ab655daf",
   "metadata": {},
   "outputs": [
    {
     "name": "stdout",
     "output_type": "stream",
     "text": [
      "[[1 2]\n",
      " [3 4]\n",
      " [5 6]]\n"
     ]
    }
   ],
   "source": [
    "import numpy as np\n",
    "matriz = np.array([[1, 2], [3, 4], [5, 6]])\n",
    "print(matriz)\n"
   ]
  },
  {
   "cell_type": "code",
   "execution_count": null,
   "id": "59dedbd4",
   "metadata": {},
   "outputs": [],
   "source": []
  }
 ],
 "metadata": {
  "kernelspec": {
   "display_name": "Python 3 (ipykernel)",
   "language": "python",
   "name": "python3"
  },
  "language_info": {
   "codemirror_mode": {
    "name": "ipython",
    "version": 3
   },
   "file_extension": ".py",
   "mimetype": "text/x-python",
   "name": "python",
   "nbconvert_exporter": "python",
   "pygments_lexer": "ipython3",
   "version": "3.9.13"
  }
 },
 "nbformat": 4,
 "nbformat_minor": 5
}
